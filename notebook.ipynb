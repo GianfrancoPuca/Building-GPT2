{
 "cells": [
  {
   "cell_type": "code",
   "execution_count": 1,
   "id": "9442bd3e",
   "metadata": {},
   "outputs": [
    {
     "name": "stdout",
     "output_type": "stream",
     "text": [
      "length of dataset in characters: 38577717\n",
      "from math import cos, sin, sqrt, tau\n",
      "\n",
      "from audio_filters.iir_filter import IIRFilter\n",
      "\n",
      "\"\"\"\n",
      "Create 2nd-order IIR filters with Butterworth design.\n",
      "\n",
      "Code based on https://webaudio.github.io/Audio-EQ-Cookbook/audio-eq-cookbook.html\n",
      "Alternatively you can use scipy.signal.butter, which should yield the same results.\n",
      "\"\"\"\n",
      "\n",
      "def make_lowpass(\n",
      "    frequency: int,\n",
      "    samplerate: int,\n",
      "    q_factor: float = 1 / sqrt(2),\n",
      ") -> IIRFilter:\n",
      "    \"\"\"\n",
      "    Creates a low-pass filter\n",
      "\n",
      "    >>> filter = make_lowpass(1000, 48000)\n",
      "    >>> filter.a_coeffs + filter.b_coeffs  # doctest: +NORMALIZE_WHITESPACE\n",
      "    [1.0922959556412573, -1.9828897227476208, 0.9077040443587427, 0.004277569313094809,\n",
      "     0.008555138626189618, 0.004277569313094809]\n",
      "    \"\"\"\n",
      "    w0 = tau * frequency / samplerate\n",
      "    _sin = sin(w0)\n",
      "    _cos = cos(w0)\n",
      "    alpha = _sin / (2 * q_factor)\n",
      "\n",
      "    b0 = (1 - _cos) / 2\n",
      "    b1 = 1 - _cos\n",
      "\n",
      "    a0 = 1 + alpha\n",
      "    a1 = -2 * _cos\n",
      "    a2 = 1 - alpha\n",
      "\n",
      "    filt = IIRFilter(2)\n",
      "    filt.set_coefficients([a0, a1, \n",
      "Vocabulary:\n",
      " \t\n",
      " !\"#$%&'()*+,-./0123456789:;<=>?@ABCDEFGHIJKLMNOPQRSTUVWXYZ[\\]^_`abcdefghijklmnopqrstuvwxyz{|}~¡¢£¤¥§©«¬¯°±²³´µ¶¹º»¼½¾¿ÀÁÂÃÄÅÆÇÈÉÊËÌÍÎÏÐÑÒÓÔÕÖØÙÚÛÜÝÞßàáâãäåæçèéêëìíîïðñòóôõöøùúûüýþÿĀąćĉčđęěğĤİıŁłńňōőœşšťũůŷŸžſɐʁˈˣ̝̳͏ΐΔΘΣΩΰαβγεθικλμοπρςστφωόϐϑϕϖϰϱϵϼЁЂЈЉЊАБВДЖИЙКОПТУФЦЧЫЯабвгдежзийклмнопрстуфцчщъыьюяёўѣ٠١٢٣٤٥٦٧٨٩ईमले०१२३४५६७८९พศᛇᲀᲁᲂᲃᲄᲅᲆᲇᲈᵀᵐᵢṡẛιΐΰ‍–—‖‘’‚“”•․…⁄⁺⁻₀₁₂ₘₙ€₹ℇℏΩK↑→∂∉∑√∞∩∳≈≠≡≤≥⋮⋯⋱⌊⌋─│┌┐└┘├┤┬┼═■☃☺⛎✅✨⟿⬇Ɐ、。あいかごさすてのはまられろツㄱ㊀㷷下世中乐京令仮份你元到北午口可名和國大好始字客市年度户文日明時暗本樂民片界発示精维蟒語说身达開ꙋ름이ﬁﬅﬆﬖ️：ｄｈｉｔｗ￼�𐀀𐀁𓂀𝔘𝔠𝔡𝔢𝔦𝔫𝔬🇦🇨🌈🏳🐍💩📗🔁🔗🖤😂😊🚀🚛🧵𩸽󠄀\n",
      "Vocab size: 522\n"
     ]
    }
   ],
   "source": [
    "with open(\"data/input.txt\", \"r\", encoding=\"utf-8\") as f:\n",
    "    text = f.read()\n",
    "\n",
    "print(\"length of dataset in characters:\", len(text))\n",
    "print(text[:1000])\n",
    "\n",
    "chars = sorted(list(set(text)))\n",
    "vocab_size = len(chars)\n",
    "\n",
    "print(\"Vocabulary:\\n\", ''.join(chars))\n",
    "print(\"Vocab size:\", vocab_size)\n"
   ]
  }
 ],
 "metadata": {
  "kernelspec": {
   "display_name": "Python 3",
   "language": "python",
   "name": "python3"
  },
  "language_info": {
   "codemirror_mode": {
    "name": "ipython",
    "version": 3
   },
   "file_extension": ".py",
   "mimetype": "text/x-python",
   "name": "python",
   "nbconvert_exporter": "python",
   "pygments_lexer": "ipython3",
   "version": "3.13.3"
  }
 },
 "nbformat": 4,
 "nbformat_minor": 5
}
